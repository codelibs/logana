{
 "cells": [
  {
   "cell_type": "code",
   "execution_count": null,
   "metadata": {},
   "outputs": [],
   "source": [
    "import pandas as pd\n",
    "import numpy as np\n",
    "from myfm import MyFMRegressor, RelationBlock\n",
    "from sklearn.preprocessing import OneHotEncoder\n",
    "import eland as ed"
   ]
  },
  {
   "cell_type": "code",
   "execution_count": null,
   "metadata": {},
   "outputs": [],
   "source": [
    "# Run import-movielens-100k.ipynb to import data\n",
    "log_df = ed.DataFrame('localhost:9220', 'logana_log')"
   ]
  },
  {
   "cell_type": "code",
   "execution_count": null,
   "metadata": {},
   "outputs": [],
   "source": [
    "ratings = ed.eland_to_pandas(log_df[['request.id.user', 'response.results.doc_movie.id', 'response.results.doc_movie.integer.rating']])\\\n",
    "    .rename(columns={'request.id.user': 'user_id',\n",
    "                     'response.results.doc_movie.id':\n",
    "                     'movie_id', 'response.results.doc_movie.integer.rating': 'rating'})\\\n",
    "    .reset_index()\n",
    "ratings"
   ]
  },
  {
   "cell_type": "code",
   "execution_count": null,
   "metadata": {},
   "outputs": [],
   "source": [
    "user_ids, user_indices = np.unique(ratings.user_id, return_inverse=True)\n",
    "movie_ids, movie_indices = np.unique(ratings.movie_id, return_inverse=True)"
   ]
  },
  {
   "cell_type": "code",
   "execution_count": null,
   "metadata": {},
   "outputs": [],
   "source": [
    "columns = [x for x in log_df.columns if x.startswith('request.attributes.') or x == 'request.id.user']\n",
    "users = ed.eland_to_pandas(log_df[columns]).groupby('request.id.user').head(1).rename(columns={x:x.split('.')[-1] for x in columns})\n",
    "users = users.rename(columns={'user': 'user_id'}).set_index('user_id')\n",
    "users = users.drop(['zip_code'], axis=1)\n",
    "users"
   ]
  },
  {
   "cell_type": "code",
   "execution_count": null,
   "metadata": {},
   "outputs": [],
   "source": [
    "columns = [x for x in log_df.columns if x.startswith('response.results.doc_movie.')]\n",
    "movies = ed.eland_to_pandas(log_df[columns]).groupby('response.results.doc_movie.id').head(1).rename(columns={x:x.split('.')[-1] for x in columns})\n",
    "movies = movies.rename(columns={'id': 'movie_id'}).set_index('movie_id')\n",
    "movies = movies.drop(['rating', 'imdb_url', 'zip_code'], axis=1)\n",
    "movies"
   ]
  },
  {
   "cell_type": "code",
   "execution_count": null,
   "metadata": {},
   "outputs": [],
   "source": [
    "user_ohe = OneHotEncoder(handle_unknown='ignore').fit(users.reset_index()) # include user id as feature\n",
    "movie_ohe = OneHotEncoder(handle_unknown='ignore').fit(movies.reset_index())"
   ]
  },
  {
   "cell_type": "code",
   "execution_count": null,
   "metadata": {},
   "outputs": [],
   "source": [
    "X_user = user_ohe.transform(\n",
    "    users.reindex(user_ids).reset_index()\n",
    ")\n",
    "X_movie = movie_ohe.transform(\n",
    "    movies.reindex(movie_ids).reset_index()\n",
    ")"
   ]
  },
  {
   "cell_type": "code",
   "execution_count": null,
   "metadata": {},
   "outputs": [],
   "source": [
    "block_user = RelationBlock(user_indices, X_user)\n",
    "block_movie = RelationBlock(movie_indices, X_movie)"
   ]
  },
  {
   "cell_type": "code",
   "execution_count": null,
   "metadata": {},
   "outputs": [],
   "source": [
    "fm = MyFMRegressor(rank=2).fit(None, ratings.rating, X_rel=[block_user, block_movie])"
   ]
  },
  {
   "cell_type": "code",
   "execution_count": null,
   "metadata": {},
   "outputs": [],
   "source": [
    "prediction_df = pd.DataFrame([\n",
    "    dict(user_id=user_id, movie_id=movie_id,\n",
    "         user_index=user_index, movie_index=movie_index)\n",
    "    for user_index, user_id in enumerate(user_ids)\n",
    "    for movie_index, movie_id in enumerate(movie_ids)\n",
    "])"
   ]
  },
  {
   "cell_type": "code",
   "execution_count": null,
   "metadata": {},
   "outputs": [],
   "source": [
    "predicted_rating = fm.predict(None, [\n",
    "    RelationBlock(prediction_df.user_index, X_user),\n",
    "    RelationBlock(prediction_df.movie_index, X_movie)\n",
    "])"
   ]
  },
  {
   "cell_type": "code",
   "execution_count": null,
   "metadata": {},
   "outputs": [],
   "source": [
    "prediction_df['prediction']  = predicted_rating"
   ]
  },
  {
   "cell_type": "code",
   "execution_count": null,
   "metadata": {},
   "outputs": [],
   "source": [
    "prediction_df.merge(ratings.rename(columns={'rating':'ground_truth'}), how='left')\n"
   ]
  },
  {
   "cell_type": "code",
   "execution_count": null,
   "metadata": {},
   "outputs": [],
   "source": []
  }
 ],
 "metadata": {
  "kernelspec": {
   "display_name": "Python 3",
   "language": "python",
   "name": "python3"
  },
  "language_info": {
   "codemirror_mode": {
    "name": "ipython",
    "version": 3
   },
   "file_extension": ".py",
   "mimetype": "text/x-python",
   "name": "python",
   "nbconvert_exporter": "python",
   "pygments_lexer": "ipython3",
   "version": "3.7.7"
  }
 },
 "nbformat": 4,
 "nbformat_minor": 4
}
