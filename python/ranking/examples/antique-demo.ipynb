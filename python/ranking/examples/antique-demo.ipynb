{
 "cells": [
  {
   "cell_type": "markdown",
   "metadata": {},
   "source": [
    "# Tutorial: Loganary-Ranking for sparse features\n"
   ]
  },
  {
   "cell_type": "markdown",
   "metadata": {},
   "source": [
    "### ANTIQUE: A Question Answering Dataset\n",
    "\n",
    "Please see [handling_sparse_features.ipynb](https://github.com/tensorflow/ranking/blob/master/tensorflow_ranking/examples/handling_sparse_features.ipynb).\n"
   ]
  },
  {
   "cell_type": "markdown",
   "metadata": {},
   "source": [
    "Download training, test data and vocabulary file."
   ]
  },
  {
   "cell_type": "code",
   "execution_count": null,
   "metadata": {},
   "outputs": [],
   "source": [
    "!wget -O \"/tmp/vocab.txt\" \"http://ciir.cs.umass.edu/downloads/Antique/tf-ranking/vocab.txt\"\n",
    "!wget -O \"/tmp/train.tfrecords\" \"http://ciir.cs.umass.edu/downloads/Antique/tf-ranking/ELWC/train.tfrecords\"\n",
    "!wget -O \"/tmp/test.tfrecords\" \"http://ciir.cs.umass.edu/downloads/Antique/tf-ranking//ELWC/test.tfrecords\""
   ]
  },
  {
   "cell_type": "markdown",
   "metadata": {},
   "source": [
    "Download and install the TensorFlow Ranking and TensorFlow Serving packages."
   ]
  },
  {
   "cell_type": "code",
   "execution_count": null,
   "metadata": {},
   "outputs": [],
   "source": [
    "!pip install -q tensorflow_ranking tensorflow-serving-api loganary-ranking"
   ]
  },
  {
   "cell_type": "markdown",
   "metadata": {},
   "source": [
    "Let us start by importing libraries that will be used throughout this Notebook."
   ]
  },
  {
   "cell_type": "code",
   "execution_count": null,
   "metadata": {},
   "outputs": [],
   "source": [
    "import tensorflow as tf\n",
    "import tensorflow_ranking as tfr\n",
    "from loganary.ranking.model import (\n",
    "    RankingModel,\n",
    "    RankingModelConfig,\n",
    "    RankingModelEmbeddingField,\n",
    "    RankingModelField,\n",
    "    get_ndcg_metric,\n",
    ")"
   ]
  },
  {
   "cell_type": "markdown",
   "metadata": {},
   "source": [
    "## Configuration for Training\n",
    "\n",
    "Here we define the train and test paths, along with model hyperparameters."
   ]
  },
  {
   "cell_type": "code",
   "execution_count": null,
   "metadata": {},
   "outputs": [],
   "source": [
    "config = RankingModelConfig(\n",
    "    model_path=\"/tmp/ranking_model_dir\",\n",
    "    train_path=\"/tmp/train.tfrecords\",\n",
    "    eval_path=\"/tmp/test.tfrecords\",\n",
    "    context_fields=[\n",
    "        RankingModelEmbeddingField(\n",
    "            name=\"query_tokens\",\n",
    "            vocabulary_file=\"/tmp/vocab.txt\",\n",
    "            dimension=20,\n",
    "        ),\n",
    "    ],\n",
    "    example_fields=[\n",
    "        RankingModelEmbeddingField(\n",
    "            name=\"document_tokens\",\n",
    "            vocabulary_file=\"/tmp/vocab.txt\",\n",
    "            dimension=20,\n",
    "        ),\n",
    "    ],\n",
    "    label_field=RankingModelField(\n",
    "        name=\"relevance\",\n",
    "        column_type=\"numeric\",\n",
    "        default_value=-1,\n",
    "    ),\n",
    "    num_train_steps=15 * 1000,\n",
    "    hidden_layer_dims=[\"64\", \"32\", \"16\"],\n",
    "    batch_size=32,\n",
    "    list_size=50,\n",
    "    learning_rate=0.05,\n",
    "    group_size=1,\n",
    "    dropout_rate=0.8,\n",
    "    eval_metric=get_ndcg_metric([1, 3, 5, 10]),\n",
    "    loss_keys=[tfr.losses.RankingLossKey.APPROX_NDCG_LOSS],\n",
    ")"
   ]
  },
  {
   "cell_type": "markdown",
   "metadata": {},
   "source": [
    "## Train and evaluate the ranker\n"
   ]
  },
  {
   "cell_type": "code",
   "execution_count": null,
   "metadata": {
    "scrolled": true
   },
   "outputs": [],
   "source": [
    "!rm -rf /tmp/ranking_model_dir\n",
    "model = RankingModel(config)\n",
    "result = model.train()\n",
    "result"
   ]
  },
  {
   "cell_type": "code",
   "execution_count": null,
   "metadata": {},
   "outputs": [],
   "source": [
    "export_model_path = model.save_model()\n",
    "export_model_path"
   ]
  },
  {
   "cell_type": "markdown",
   "metadata": {},
   "source": [
    "## Launch TensorBoard"
   ]
  },
  {
   "cell_type": "code",
   "execution_count": null,
   "metadata": {},
   "outputs": [],
   "source": [
    "%load_ext tensorboard\n",
    "%tensorboard --logdir=\"/tmp/ranking_model_dir\" --port 12345"
   ]
  },
  {
   "cell_type": "markdown",
   "metadata": {},
   "source": [
    "## Generating Predictions"
   ]
  },
  {
   "cell_type": "code",
   "execution_count": null,
   "metadata": {},
   "outputs": [],
   "source": [
    "def predict_input_fn(path):\n",
    "    context_feature_spec = tf.feature_column.make_parse_example_spec(\n",
    "        [f.get_column() for f in config.context_fields])\n",
    "    example_feature_spec = tf.feature_column.make_parse_example_spec(\n",
    "        [f.get_column() for f in config.example_fields])\n",
    "    dataset = tfr.data.build_ranking_dataset(\n",
    "        file_pattern=path,\n",
    "        data_format=tfr.data.ELWC,\n",
    "        batch_size=config.batch_size,\n",
    "        list_size=config.list_size,\n",
    "        context_feature_spec=context_feature_spec,\n",
    "        example_feature_spec=example_feature_spec,\n",
    "        reader=tf.data.TFRecordDataset,\n",
    "        shuffle=False,\n",
    "        num_epochs=1)\n",
    "    features = tf.compat.v1.data.make_one_shot_iterator(dataset).get_next()\n",
    "    return features"
   ]
  },
  {
   "cell_type": "code",
   "execution_count": null,
   "metadata": {},
   "outputs": [],
   "source": [
    "predictions = model.get_ranker().predict(input_fn=lambda: predict_input_fn(\"/tmp/test.tfrecords\"))"
   ]
  },
  {
   "cell_type": "code",
   "execution_count": null,
   "metadata": {
    "scrolled": false
   },
   "outputs": [],
   "source": [
    "x = next(predictions)\n",
    "assert len(x) == 50  # Note that this includes padding."
   ]
  }
 ],
 "metadata": {
  "kernelspec": {
   "display_name": "Python 3",
   "language": "python",
   "name": "python3"
  },
  "language_info": {
   "codemirror_mode": {
    "name": "ipython",
    "version": 3
   },
   "file_extension": ".py",
   "mimetype": "text/x-python",
   "name": "python",
   "nbconvert_exporter": "python",
   "pygments_lexer": "ipython3",
   "version": "3.8.6"
  }
 },
 "nbformat": 4,
 "nbformat_minor": 2
}
