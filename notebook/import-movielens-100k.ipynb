{
 "cells": [
  {
   "cell_type": "code",
   "execution_count": null,
   "metadata": {},
   "outputs": [],
   "source": [
    "!curl -o ml-100k.zip http://files.grouplens.org/datasets/movielens/ml-100k.zip"
   ]
  },
  {
   "cell_type": "code",
   "execution_count": null,
   "metadata": {},
   "outputs": [],
   "source": [
    "!unzip ml-100k.zip"
   ]
  },
  {
   "cell_type": "code",
   "execution_count": null,
   "metadata": {},
   "outputs": [],
   "source": [
    "import pandas as pd\n",
    "\n",
    "from functools import reduce\n",
    "from elasticsearch import Elasticsearch"
   ]
  },
  {
   "cell_type": "code",
   "execution_count": null,
   "metadata": {},
   "outputs": [],
   "source": [
    "r_cols = ['user_id', 'movie_id', 'rating', 'timestamp']\n",
    "ratings = pd.read_csv('ml-100k/u.data', sep='\\t', names=r_cols, encoding='latin-1')\n",
    "ratings['timestamp'] = pd.to_datetime(ratings['timestamp'].astype(int), unit='s')\n",
    "ratings"
   ]
  },
  {
   "cell_type": "code",
   "execution_count": null,
   "metadata": {},
   "outputs": [],
   "source": [
    "m_cols = ['movie_id', 'title', 'release_date', 'video_release_date',\n",
    "          'imdb_url', 'unknown', 'action', 'adventure', 'animation',\n",
    "          'children', 'comedy', 'crime', 'documentary', 'drama', 'fantasy',\n",
    "          'film_noir', 'horror', 'musical', 'mystery', 'romance', 'sci_fi',\n",
    "          'thriller', 'war', 'western']\n",
    "movies = pd.read_csv('ml-100k/u.item', sep='|', names=m_cols, encoding='latin-1')\n",
    "movies['release_date'] = pd.to_datetime(movies['release_date'], format='%d-%b-%Y')\n",
    "movies['video_release_date'] = pd.to_datetime(movies['video_release_date'], format='%d-%b-%Y')\n",
    "movies"
   ]
  },
  {
   "cell_type": "code",
   "execution_count": null,
   "metadata": {},
   "outputs": [],
   "source": [
    "u_cols = ['user_id', 'age', 'gender', 'occupation', 'zip_code']\n",
    "users = pd.read_csv('ml-100k/u.user', sep='|', names=u_cols, encoding='latin-1')\n",
    "users"
   ]
  },
  {
   "cell_type": "code",
   "execution_count": null,
   "metadata": {},
   "outputs": [],
   "source": [
    "ratings = pd.merge(pd.merge(ratings, users, on='user_id'), movies, on='movie_id')\n",
    "ratings"
   ]
  },
  {
   "cell_type": "code",
   "execution_count": null,
   "metadata": {},
   "outputs": [],
   "source": [
    "# [x for x in ratings.columns]\n",
    "ratings.dtypes"
   ]
  },
  {
   "cell_type": "code",
   "execution_count": null,
   "metadata": {},
   "outputs": [],
   "source": [
    "def deep_get(dictionary, keys, default=None):\n",
    "    value = reduce(lambda d, key: d.get(key, default) if isinstance(d, dict) else default, keys.split(\".\"), dictionary)\n",
    "    if value is None:\n",
    "        return default\n",
    "    return value"
   ]
  },
  {
   "cell_type": "code",
   "execution_count": null,
   "metadata": {},
   "outputs": [],
   "source": [
    "def get_log_index(data):\n",
    "    return f\"logana_log.{data.get('@timestamp')[0:10]}\""
   ]
  },
  {
   "cell_type": "code",
   "execution_count": null,
   "metadata": {},
   "outputs": [],
   "source": [
    "def to_isoformat(data, column):\n",
    "    value = data.get(column)\n",
    "    if pd.isnull(value):\n",
    "        return None\n",
    "    return value.isoformat()\n",
    "\n",
    "def create_logana_request(data):\n",
    "    release_date = to_isoformat(data, 'release_date')\n",
    "    video_release_date = to_isoformat(data, 'video_release_date')\n",
    "    timestamp = to_isoformat(data, 'timestamp')\n",
    "    return {\n",
    "        'request': {\n",
    "            'id': {\n",
    "                'request': f\"{data.get('user_id')}_{data.get('movie_id')}\",\n",
    "                'user': data.get('user_id'),\n",
    "            },\n",
    "            'attributes': {\n",
    "                'keyword': {\n",
    "                    'gender': data.get('gender'),\n",
    "                    'occupation': data.get('occupation'),\n",
    "                    'zip_code': data.get('zip_code'),\n",
    "                },\n",
    "                'integer': {\n",
    "                    'age': data.get('age'),\n",
    "                },\n",
    "            },\n",
    "            'conditions': {\n",
    "            },\n",
    "        },\n",
    "        'response': {\n",
    "            'results': {\n",
    "                'doc_movie': {\n",
    "                    'id': data.get('movie_id'),\n",
    "                    'keyword': {\n",
    "                        'title': data.get('title'),\n",
    "                        'imdb_url': str(data.get('imdb_url')),\n",
    "                        'zip_code': str(data.get('zip_code')),\n",
    "                    },\n",
    "                    'date': {\n",
    "                        'release_date': release_date,\n",
    "                        'video_release_date': video_release_date,\n",
    "                    },\n",
    "                    'integer': {\n",
    "                        'rating': data.get('rating'),\n",
    "                    },\n",
    "                    'boolean': {\n",
    "                        'unknown': True if data.get('unknown') == 1 else False,\n",
    "                        'action': True if data.get('action') == 1 else False,\n",
    "                        'adventure': True if data.get('adventure') == 1 else False,\n",
    "                        'animation': True if data.get('animation') == 1 else False,\n",
    "                        'children': True if data.get('children') == 1 else False,\n",
    "                        'comedy': True if data.get('comedy') == 1 else False,\n",
    "                        'crime': True if data.get('crime') == 1 else False,\n",
    "                        'documentary': True if data.get('documentary') == 1 else False,\n",
    "                        'drama': True if data.get('drama') == 1 else False,\n",
    "                        'fantasy': True if data.get('fantasy') == 1 else False,\n",
    "                        'film_noir': True if data.get('film_noir') == 1 else False,\n",
    "                        'horror': True if data.get('horror') == 1 else False,\n",
    "                        'musical': True if data.get('musical') == 1 else False,\n",
    "                        'mystery': True if data.get('mystery') == 1 else False,\n",
    "                        'romance': True if data.get('romance') == 1 else False,\n",
    "                        'sci_fi': True if data.get('sci_fi') == 1 else False,\n",
    "                        'thriller': True if data.get('thriller') == 1 else False,\n",
    "                        'war': True if data.get('war') == 1 else False,\n",
    "                        'western': True if data.get('western') == 1 else False,\n",
    "                    },\n",
    "                }\n",
    "            },\n",
    "            'attributes': {\n",
    "            }\n",
    "        },\n",
    "        '@timestamp': timestamp,\n",
    "    }\n",
    "    "
   ]
  },
  {
   "cell_type": "code",
   "execution_count": null,
   "metadata": {},
   "outputs": [],
   "source": [
    "es = Elasticsearch('localhost:9220')\n",
    "\n",
    "def bulk_insert(bulk_data):\n",
    "    res = es.bulk(bulk_data, params={\"request_timeout\": 60})\n",
    "    if res.get('errors'):\n",
    "        for item in res.get('items'):\n",
    "            status = item.get('index').get('status')\n",
    "            if status >= 200 and status < 300:\n",
    "                continue\n",
    "            print(f'{item}')"
   ]
  },
  {
   "cell_type": "code",
   "execution_count": null,
   "metadata": {},
   "outputs": [],
   "source": [
    "def insert_requests(df, id_field, bulk_size=5000):\n",
    "    bulk_data = []\n",
    "    count = 0\n",
    "    for idx, row in df.iterrows():\n",
    "        logana_obj = create_logana_request(row)\n",
    "        _index = get_log_index(logana_obj)\n",
    "        _id = deep_get(logana_obj, id_field)\n",
    "        bulk_data.append({\"index\": {\"_index\": _index, \"_id\" : _id}})\n",
    "        bulk_data.append(logana_obj)\n",
    "        count += 1\n",
    "        if count % bulk_size == 0:\n",
    "            print(f'docs: {count}')\n",
    "            bulk_insert(bulk_data)\n",
    "            bulk_data = []\n",
    "\n",
    "    if len(bulk_data) > 0:\n",
    "        bulk_insert(bulk_data)\n",
    "        count += int(len(bulk_data)/2)\n",
    "        print(f'docs: {count}')\n",
    "\n",
    "insert_requests(ratings, 'request.id.request')"
   ]
  },
  {
   "cell_type": "code",
   "execution_count": null,
   "metadata": {},
   "outputs": [],
   "source": []
  }
 ],
 "metadata": {
  "kernelspec": {
   "display_name": "Python 3",
   "language": "python",
   "name": "python3"
  },
  "language_info": {
   "codemirror_mode": {
    "name": "ipython",
    "version": 3
   },
   "file_extension": ".py",
   "mimetype": "text/x-python",
   "name": "python",
   "nbconvert_exporter": "python",
   "pygments_lexer": "ipython3",
   "version": "3.7.7"
  }
 },
 "nbformat": 4,
 "nbformat_minor": 4
}
