{
 "cells": [
  {
   "cell_type": "code",
   "execution_count": null,
   "metadata": {},
   "outputs": [],
   "source": [
    "import gzip\n",
    "import json\n",
    "import glob\n",
    "\n",
    "from collections import deque\n",
    "from elasticsearch import Elasticsearch, helpers\n"
   ]
  },
  {
   "cell_type": "code",
   "execution_count": null,
   "metadata": {},
   "outputs": [],
   "source": [
    "es = Elasticsearch('localhost:9220')\n",
    "# es = Elasticsearch('logana01:9220')\n",
    "bulk_path_pattern = 'data/logana_log*.ndjson.gz'\n",
    "bulk_size = 5000\n"
   ]
  },
  {
   "cell_type": "code",
   "execution_count": null,
   "metadata": {},
   "outputs": [],
   "source": [
    "def load_logs(pattern):\n",
    "    count = 0\n",
    "    for bulk_path in glob.glob(pattern):\n",
    "        print(bulk_path)\n",
    "        with gzip.open(bulk_path, mode='rt', encoding='utf-8') as f:\n",
    "            action = None\n",
    "            for line in f:\n",
    "                json_obj = json.loads(line)\n",
    "                if action is None:\n",
    "                    if 'index' in json_obj:\n",
    "                        action = json_obj.get('index')\n",
    "                    elif 'create' in json_obj:\n",
    "                        action = json_obj.get('create')\n",
    "                else:\n",
    "                    action['_source'] = json_obj\n",
    "                    yield action\n",
    "                    action = None\n",
    "                    count += 1\n",
    "                    if count % 10000 == 0:\n",
    "                        print(f'sent {count} docs')\n",
    "\n",
    "pb = helpers.parallel_bulk(es, load_logs(bulk_path_pattern), chunk_size=bulk_size, request_timeout=600)\n",
    "deque(pb, maxlen=0)\n"
   ]
  },
  {
   "cell_type": "code",
   "execution_count": null,
   "metadata": {},
   "outputs": [],
   "source": [
    "\n"
   ]
  }
 ],
 "metadata": {
  "kernelspec": {
   "display_name": "Python 3",
   "language": "python",
   "name": "python3"
  },
  "language_info": {
   "codemirror_mode": {
    "name": "ipython",
    "version": 3
   },
   "file_extension": ".py",
   "mimetype": "text/x-python",
   "name": "python",
   "nbconvert_exporter": "python",
   "pygments_lexer": "ipython3",
   "version": "3.7.7"
  }
 },
 "nbformat": 4,
 "nbformat_minor": 4
}
