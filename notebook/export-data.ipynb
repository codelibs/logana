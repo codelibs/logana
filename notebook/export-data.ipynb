{
 "cells": [
  {
   "cell_type": "code",
   "execution_count": null,
   "metadata": {},
   "outputs": [],
   "source": [
    "import gzip\n",
    "import json\n",
    "import os\n",
    "\n",
    "from elasticsearch import Elasticsearch, helpers\n"
   ]
  },
  {
   "cell_type": "code",
   "execution_count": null,
   "metadata": {},
   "outputs": [],
   "source": [
    "es = Elasticsearch()\n",
    "scan_query = {'query': {'match_all': {}}}\n",
    "export_path = 'data'\n",
    "bulk_size = 50000\n",
    "\n",
    "os.makedirs(export_path, exist_ok=True)"
   ]
  },
  {
   "cell_type": "code",
   "execution_count": null,
   "metadata": {},
   "outputs": [],
   "source": [
    "log_indices = es.indices.get_alias(index='logana_log').keys()"
   ]
  },
  {
   "cell_type": "code",
   "execution_count": null,
   "metadata": {},
   "outputs": [],
   "source": [
    "def write_bulk_file(log_index, count, bulk_data): \n",
    "    bulk_path = f'{export_path}/{log_index}_{count}.ndjson.gz'\n",
    "    print(f'writing {bulk_path}')\n",
    "    with gzip.open(bulk_path, mode='wt', encoding='utf-8') as f:\n",
    "        for data in bulk_data:\n",
    "            f.write(json.dumps(data, ensure_ascii=False))\n",
    "            f.write('\\n')\n",
    "\n",
    "for log_index in log_indices:\n",
    "    print(f'index: {log_index}')\n",
    "    docs = helpers.scan(es,query=scan_query, index=log_index)\n",
    "    bulk_data = []\n",
    "    count = 1\n",
    "    for doc in docs:\n",
    "        index = doc['_index']\n",
    "        doc_id = doc['_id']\n",
    "        source = doc['_source']\n",
    "        bulk_data.append({'index':{'_index':index, '_id':doc_id}})\n",
    "        bulk_data.append(source)\n",
    "        if len(bulk_data) >= bulk_size * 2:\n",
    "            write_bulk_file(log_index, count, bulk_data)\n",
    "            count += 1\n",
    "            bulk_data = []\n",
    "\n",
    "    if len(bulk_data) >0:\n",
    "        write_bulk_file(log_index, count, bulk_data)\n",
    "    "
   ]
  },
  {
   "cell_type": "code",
   "execution_count": null,
   "metadata": {},
   "outputs": [],
   "source": [
    "\n"
   ]
  }
 ],
 "metadata": {
  "kernelspec": {
   "display_name": "Python 3",
   "language": "python",
   "name": "python3"
  },
  "language_info": {
   "codemirror_mode": {
    "name": "ipython",
    "version": 3
   },
   "file_extension": ".py",
   "mimetype": "text/x-python",
   "name": "python",
   "nbconvert_exporter": "python",
   "pygments_lexer": "ipython3",
   "version": "3.7.7"
  }
 },
 "nbformat": 4,
 "nbformat_minor": 4
}
